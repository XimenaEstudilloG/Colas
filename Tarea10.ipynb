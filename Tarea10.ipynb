{
  "nbformat": 4,
  "nbformat_minor": 0,
  "metadata": {
    "colab": {
      "name": "Tarea10.ipynb",
      "provenance": [],
      "collapsed_sections": [],
      "authorship_tag": "ABX9TyPfh80STx7EkkLWcrv0ynCK",
      "include_colab_link": true
    },
    "kernelspec": {
      "name": "python3",
      "display_name": "Python 3"
    },
    "language_info": {
      "name": "python"
    }
  },
  "cells": [
    {
      "cell_type": "markdown",
      "metadata": {
        "id": "view-in-github",
        "colab_type": "text"
      },
      "source": [
        "<a href=\"https://colab.research.google.com/github/XimenaEstudilloG/Colas/blob/main/Tarea10.ipynb\" target=\"_parent\"><img src=\"https://colab.research.google.com/assets/colab-badge.svg\" alt=\"Open In Colab\"/></a>"
      ]
    },
    {
      "cell_type": "code",
      "metadata": {
        "id": "WwWU_uqMelAc"
      },
      "source": [
        "class Queue:\n",
        "  def __init__ ( self ):\n",
        "    self.data = []\n",
        "\n",
        "  def is_empty ( self ):\n",
        "    return len(self.data) == 0\n",
        "  \n",
        "  def length ( self ):\n",
        "    return len(self.data)\n",
        "\n",
        "  def enqueue( self,value ):\n",
        "    self.data.append(value)\n",
        "\n",
        "  def dequeue( self ):\n",
        "    return self.data.pop(0)\n",
        "\n",
        "  def to_string( self ):\n",
        "    for elem in self.data:\n",
        "      print(f\" {elem} <--\", end = \"\")\n",
        "    print(\"\")\n"
      ],
      "execution_count": 6,
      "outputs": []
    },
    {
      "cell_type": "code",
      "metadata": {
        "id": "8jNEjwKnez3e"
      },
      "source": [
        "class BoundedPriorityQueue:\n",
        "  def __init__ ( self, prioridad ):\n",
        "    self.data =[Queue() for x in range(prioridad) ]\n",
        "    self.size = 0 \n",
        "  \n",
        "  def is_empty( self ):\n",
        "    return self.size == 0\n",
        "\n",
        "  def length( self ):\n",
        "    return self.size\n",
        "  \n",
        "  def enqueue( self, prioridad , elementos):\n",
        "    if prioridad < len(self.data) and prioridad >= 0:\n",
        "      self.data[prioridad].enqueue(elementos)\n",
        "      self.size += 1\n",
        "  \n",
        "  def dequeue( self ):\n",
        "    if not self.is_empty():\n",
        "      for prioridad in self.data:\n",
        "        if not prioridad.is_empty():\n",
        "          self.size -= 1\n",
        "          return prioridad.dequeue()\n",
        "  \n",
        "  def to_string( self ):\n",
        "    for prioridad in range(len(self.data)):\n",
        "      print(f\"Prioridad {prioridad} --> {self.data[prioridad].to_string()}\")"
      ],
      "execution_count": 17,
      "outputs": []
    },
    {
      "cell_type": "code",
      "metadata": {
        "colab": {
          "base_uri": "https://localhost:8080/"
        },
        "id": "vT9zV8khgRDH",
        "outputId": "55b430f9-8f43-49b6-96a4-a89f2966baa1"
      },
      "source": [
        "barco = BoundedPriorityQueue(7)\n",
        "print(f\"El barco esta vacío? {barco.is_empty()} \")\n",
        "print(\"Pueden empezar a ingresar.\")\n",
        "\n",
        "Mujeres = {\"Prioridad\": 3, \"Descripcion\": \"Mujeres\", \"Personas\":[\"Maricruz González\", \"Ximena Estudillo\"]}\n",
        "Hombres = {\"Prioridad\": 3, \"Descripcion\": \"Hombres\", \"Personas\":[\"Norberto Estudillo\", \"Daniel Estudillo\"]}\n",
        "Ninas = {\"Prioridad\": 1, \"Descripcion\": \"Niñas\", \"Personas\":[\"Aranza Gutierrez\", \"Sofia Ramirez\"]}\n",
        "Niños = {\"Prioridad\": 2, \"Descripcion\": \"Niños\", \"Personas\":[\"Alfonso Gordillo\", \"Enrique Ortiz\"]}\n",
        "Maestres = {\"Prioridad\": 4, \"Descripcion\": \"Maestre\", \"Personas\":[\"Yadira Renteria\"]}\n",
        "TerceraEdad = {\"Prioridad\": 2, \"Descripcion\": \"Tercera Edad\", \"Personas\":[\"Luciana Jimenez\", \"Augusto Gonzalez\"]}\n",
        "Mecanicos = {\"Prioridad\": 4, \"Descripcion\": \"Mecanicos\", \"Personas\":[\"Jaime Perez\", \"Luis Suarez\"]}\n",
        "Capitan = {\"Prioridad\": 5, \"Descripcion\": \"Capitan\", \"Personas\":[\"Alvaro Jimenez\"]}\n",
        "Timonel = {\"Prioridad\": 4, \"Descripcion\": \"Timonel\", \"Personas\":[\"Hermes Gonzalez\"]}\n",
        "Vigia = {\"Prioridad\": 4, \"Descripcion\": \"Vigia\", \"Personas\":[\"Israel Jimenez\"]}\n",
        "\n",
        "\n",
        "barco.enqueue( Maestres['Prioridad'], Maestres )\n",
        "barco.enqueue( Niños['Prioridad'], Niños )\n",
        "barco.enqueue( Mecanicos['Prioridad'], Mecanicos )\n",
        "barco.enqueue( Mujeres['Prioridad'], Mujeres )\n",
        "barco.enqueue( TerceraEdad['Prioridad'], TerceraEdad )\n",
        "barco.enqueue( Ninas['Prioridad'], Ninas )\n",
        "barco.enqueue( Hombres['Prioridad'], Hombres )\n",
        "barco.enqueue( Vigia['Prioridad'], Vigia )\n",
        "barco.enqueue( Capitan['Prioridad'], Capitan )\n",
        "barco.enqueue( Timonel['Prioridad'], Timonel )\n",
        "\n",
        "print(f\"¿El barco ya esta lleno? {not barco.is_empty()}\")\n",
        "barco.to_string()\n",
        "print(\"\")\n",
        "print(\"------------------------------------------------\")\n",
        "print(\"\")\n",
        "while (not barco.is_empty()):\n",
        "  print(f\"La persona que ha bajado del barco: {barco.dequeue()}\\n\")\n",
        "if barco.is_empty():\n",
        "  print(\"---------------------------------------------------\")\n",
        "  print(\"\")\n",
        "  print(\"\\nHan bajado todos los pasajeros del barco. Esta vacío.\")"
      ],
      "execution_count": 19,
      "outputs": [
        {
          "output_type": "stream",
          "name": "stdout",
          "text": [
            "El barco esta vacío? True \n",
            "Pueden empezar a ingresar.\n",
            "¿El barco ya esta lleno? True\n",
            "\n",
            "Prioridad 0 --> None\n",
            " {'Prioridad': 1, 'Descripcion': 'Niñas', 'Personas': ['Aranza Gutierrez', 'Sofia Ramirez']} <--\n",
            "Prioridad 1 --> None\n",
            " {'Prioridad': 2, 'Descripcion': 'Niños', 'Personas': ['Alfonso Gordillo', 'Enrique Ortiz']} <-- {'Prioridad': 2, 'Descripcion': 'Tercera Edad', 'Personas': ['Luciana Jimenez', 'Augusto Gonzalez']} <--\n",
            "Prioridad 2 --> None\n",
            " {'Prioridad': 3, 'Descripcion': 'Mujeres', 'Personas': ['Maricruz González', 'Ximena Estudillo']} <-- {'Prioridad': 3, 'Descripcion': 'Hombres', 'Personas': ['Norberto Estudillo', 'Daniel Estudillo']} <--\n",
            "Prioridad 3 --> None\n",
            " {'Prioridad': 4, 'Descripcion': 'Maestre', 'Personas': ['Yadira Renteria']} <-- {'Prioridad': 4, 'Descripcion': 'Mecanicos', 'Personas': ['Jaime Perez', 'Luis Suarez']} <-- {'Prioridad': 4, 'Descripcion': 'Vigia', 'Personas': ['Israel Jimenez']} <-- {'Prioridad': 4, 'Descripcion': 'Timonel', 'Personas': ['Hermes Gonzalez']} <--\n",
            "Prioridad 4 --> None\n",
            " {'Prioridad': 5, 'Descripcion': 'Capitan', 'Personas': ['Alvaro Jimenez']} <--\n",
            "Prioridad 5 --> None\n",
            "\n",
            "Prioridad 6 --> None\n",
            "\n",
            "------------------------------------------------\n",
            "\n",
            "La persona que ha bajado del barco: {'Prioridad': 1, 'Descripcion': 'Niñas', 'Personas': ['Aranza Gutierrez', 'Sofia Ramirez']}\n",
            "\n",
            "La persona que ha bajado del barco: {'Prioridad': 2, 'Descripcion': 'Niños', 'Personas': ['Alfonso Gordillo', 'Enrique Ortiz']}\n",
            "\n",
            "La persona que ha bajado del barco: {'Prioridad': 2, 'Descripcion': 'Tercera Edad', 'Personas': ['Luciana Jimenez', 'Augusto Gonzalez']}\n",
            "\n",
            "La persona que ha bajado del barco: {'Prioridad': 3, 'Descripcion': 'Mujeres', 'Personas': ['Maricruz González', 'Ximena Estudillo']}\n",
            "\n",
            "La persona que ha bajado del barco: {'Prioridad': 3, 'Descripcion': 'Hombres', 'Personas': ['Norberto Estudillo', 'Daniel Estudillo']}\n",
            "\n",
            "La persona que ha bajado del barco: {'Prioridad': 4, 'Descripcion': 'Maestre', 'Personas': ['Yadira Renteria']}\n",
            "\n",
            "La persona que ha bajado del barco: {'Prioridad': 4, 'Descripcion': 'Mecanicos', 'Personas': ['Jaime Perez', 'Luis Suarez']}\n",
            "\n",
            "La persona que ha bajado del barco: {'Prioridad': 4, 'Descripcion': 'Vigia', 'Personas': ['Israel Jimenez']}\n",
            "\n",
            "La persona que ha bajado del barco: {'Prioridad': 4, 'Descripcion': 'Timonel', 'Personas': ['Hermes Gonzalez']}\n",
            "\n",
            "La persona que ha bajado del barco: {'Prioridad': 5, 'Descripcion': 'Capitan', 'Personas': ['Alvaro Jimenez']}\n",
            "\n",
            "---------------------------------------------------\n",
            "\n",
            "\n",
            "Han bajado todos los pasajeros del barco. Esta vacío.\n"
          ]
        }
      ]
    }
  ]
}