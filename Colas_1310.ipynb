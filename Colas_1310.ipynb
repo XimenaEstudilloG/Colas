{
  "nbformat": 4,
  "nbformat_minor": 0,
  "metadata": {
    "colab": {
      "name": "Colas_1310.ipynb",
      "provenance": [],
      "collapsed_sections": []
    },
    "kernelspec": {
      "name": "python3",
      "display_name": "Python 3"
    },
    "language_info": {
      "name": "python"
    }
  },
  "cells": [
    {
      "cell_type": "code",
      "metadata": {
        "id": "SIMLCEkIKab6"
      },
      "source": [
        "class Queue:\n",
        "    def __init__( self ):\n",
        "        self.data = []\n",
        "\n",
        "    def is_empty( self ):\n",
        "        return len( self.data ) == 0\n",
        "\n",
        "    def length( self ):\n",
        "        return len( self.data )\n",
        "\n",
        "    def enqueue( self , value ):\n",
        "        self.data.append( value )\n",
        "\n",
        "    def dequeue( self ):\n",
        "        return self.data.pop(0)\n",
        "\n",
        "    def to_string( self ):\n",
        "        for elem in self.data:\n",
        "            print(f\"|{ elem }|  <--\" , end=\"\")\n",
        "        print(\"\")"
      ],
      "execution_count": 8,
      "outputs": []
    },
    {
      "cell_type": "code",
      "metadata": {
        "colab": {
          "base_uri": "https://localhost:8080/"
        },
        "id": "4-GN2UEyMnWT",
        "outputId": "0f87be26-8fea-4cc2-bbd5-ddb78b23fd19"
      },
      "source": [
        "cola = Queue()\n",
        "print(\"¿Esta vacío?: \" , cola.is_empty())\n",
        "print(\"Número de elementos = \" , cola.length())\n",
        "cola.enqueue(10)\n",
        "cola.enqueue(20)\n",
        "cola.enqueue(30)\n",
        "print(\"¿Esta vacío?: \" , cola.is_empty())\n",
        "print(\"Número de elementos = \" , cola.length())\n",
        "cola.enqueue(40)\n",
        "cola.enqueue(50)\n",
        "cola.enqueue(60)\n",
        "cola.to_string()\n",
        "siguiente = cola.dequeue()\n",
        "print(\"Atendiendo a: \" , siguiente)\n",
        "cola.to_string()"
      ],
      "execution_count": 9,
      "outputs": [
        {
          "output_type": "stream",
          "name": "stdout",
          "text": [
            "¿Esta vacío?:  True\n",
            "Número de elementos =  0\n",
            "¿Esta vacío?:  False\n",
            "Número de elementos =  3\n",
            "|10|  <--|20|  <--|30|  <--|40|  <--|50|  <--|60|  <--\n",
            "Atendiendo a:  10\n",
            "|20|  <--|30|  <--|40|  <--|50|  <--|60|  <--\n"
          ]
        }
      ]
    },
    {
      "cell_type": "markdown",
      "metadata": {
        "id": "fDhtXlIRQhX_"
      },
      "source": [
        "#Variantes del ADT Cola\n",
        "1. Circulares.\n",
        "2. Prioridad\n",
        "      - Acotada.\n",
        "      - No acotada."
      ]
    }
  ]
}